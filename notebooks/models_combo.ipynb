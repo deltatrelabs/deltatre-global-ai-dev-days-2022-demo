{
 "cells": [
  {
   "cell_type": "markdown",
   "metadata": {},
   "source": [
    "# Model Combo Use\n",
    "\n",
    "To use this notebook you need first to train a NER classification model (go to our repo `Lab.HuggingFace-NER-Research` and follow the instructions) then you need a trained generation model (follow the `conditional_generationipynb` notebook)."
   ]
  },
  {
   "cell_type": "code",
   "execution_count": 1,
   "metadata": {},
   "outputs": [
    {
     "name": "stderr",
     "output_type": "stream",
     "text": [
      "d:\\Projects\\Lab.Research.FootballNewsGenerator\\venv\\lib\\site-packages\\tqdm\\auto.py:22: TqdmWarning: IProgress not found. Please update jupyter and ipywidgets. See https://ipywidgets.readthedocs.io/en/stable/user_install.html\n",
      "  from .autonotebook import tqdm as notebook_tqdm\n",
      "d:\\Projects\\Lab.Research.FootballNewsGenerator\\venv\\lib\\site-packages\\transformers\\models\\t5\\tokenization_t5_fast.py:156: FutureWarning: This tokenizer was incorrectly instantiated with a model max length of 512 which will be corrected in Transformers v5.\n",
      "For now, this behavior is kept to avoid breaking backwards compatibility when padding/encoding with `truncation is True`.\n",
      "- Be aware that you SHOULD NOT rely on t5-base automatically truncating your input to 512 when padding/encoding.\n",
      "- If you want to encode/pad to sequences longer than 512 you can either instantiate this tokenizer with `model_max_length` or pass `max_length` when encoding/padding.\n",
      "- To avoid this warning, please instantiate this tokenizer with `model_max_length` set to your preferred value.\n",
      "  warnings.warn(\n"
     ]
    }
   ],
   "source": [
    "import os\n",
    "import json\n",
    "from transformers import (\n",
    "    BertForTokenClassification,\n",
    "    BertTokenizer,\n",
    "    AutoTokenizer,\n",
    "    T5ForConditionalGeneration\n",
    ")\n",
    "\n",
    "from torch import cuda\n",
    "import sys\n",
    "sys.path.append('..')\n",
    "from src.utils.utils import *\n",
    "\n",
    "device = 'cuda' if cuda.is_available() else 'cpu'\n",
    "\n",
    "ner_model_dir=os.path.join('../model/Bert')\n",
    "t5_model_dir=os.path.join('../model/t5_20/t5-large')\n",
    "\n",
    "with open(ner_model_dir+'/config.json', 'r', encoding='utf-8') as f:\n",
    "    datastore = json.load(f)\n",
    "\n",
    "label_list = dict((int(k), v) for k,v in datastore['id2label'].items())\n",
    "special_tokens = dict((v, f'<|{v}|>') for _,v in datastore['id2label'].items())\n",
    "\n",
    "t5_tokenizer = AutoTokenizer.from_pretrained('t5-base')\n",
    "t5_model= T5ForConditionalGeneration.from_pretrained(t5_model_dir)\n",
    "t5_model.to(device)\n",
    "\n",
    "ner_model = BertForTokenClassification.from_pretrained(ner_model_dir)\n",
    "ner_tokenizer = BertTokenizer.from_pretrained('bert-base-uncased')"
   ]
  },
  {
   "cell_type": "code",
   "execution_count": 2,
   "metadata": {},
   "outputs": [],
   "source": [
    "def linearize_entities(entities):\n",
    "    string=''\n",
    "    for e in entities:\n",
    "        label=special_tokens[e['label']]\n",
    "        text=e['text']\n",
    "        string=string + f'{label} {text} {label} '\n",
    "\n",
    "    return string"
   ]
  },
  {
   "cell_type": "code",
   "execution_count": 5,
   "metadata": {},
   "outputs": [
    {
     "data": {
      "text/plain": [
       "'<|PERSON|> rabiot <|PERSON|> <|CLUB|> juventus <|CLUB|> <|TRANSFER_MARKET|> renewal the contract <|TRANSFER_MARKET|> <|CLUB|> torino <|CLUB|> '"
      ]
     },
     "execution_count": 5,
     "metadata": {},
     "output_type": "execute_result"
    }
   ],
   "source": [
    "text='Rabiot, Juventus, renewal the contract, Torino'\n",
    "\n",
    "entities=get_entities(ner_model, ner_tokenizer, text, label_list)\n",
    "input_text=linearize_entities(entities)\n",
    "input_text"
   ]
  },
  {
   "cell_type": "code",
   "execution_count": 6,
   "metadata": {},
   "outputs": [
    {
     "name": "stdout",
     "output_type": "stream",
     "text": [
      "['are set to sign Juventus contract, here we go The agreement has been reached and signed, contracts now signed between clubs. Torino will receive a percentage on future sale. Juve are now waiting for the final green light from the cl']\n"
     ]
    }
   ],
   "source": [
    "input_ids = t5_tokenizer(input_text, return_tensors=\"pt\")\n",
    "input_ids = input_ids.to(device)\n",
    "\n",
    "generated_ids = t5_model.generate(input_ids = input_ids['input_ids'], attention_mask = input_ids['attention_mask'], max_length=256)\n",
    "preds = [t5_tokenizer.decode(g, skip_special_tokens=True, clean_up_tokenization_spaces=True) for g in generated_ids]\n",
    "\n",
    "print(preds)"
   ]
  }
 ],
 "metadata": {
  "kernelspec": {
   "display_name": "Python 3.9.12 ('venv': venv)",
   "language": "python",
   "name": "python3"
  },
  "language_info": {
   "codemirror_mode": {
    "name": "ipython",
    "version": 3
   },
   "file_extension": ".py",
   "mimetype": "text/x-python",
   "name": "python",
   "nbconvert_exporter": "python",
   "pygments_lexer": "ipython3",
   "version": "3.9.12"
  },
  "orig_nbformat": 4,
  "vscode": {
   "interpreter": {
    "hash": "84e7ee4fbf250b78beb3bc6f90ba85bbd77f24c6c79878b55864297e23a4daa1"
   }
  }
 },
 "nbformat": 4,
 "nbformat_minor": 2
}
